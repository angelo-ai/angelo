{
 "cells": [
  {
   "cell_type": "code",
   "execution_count": null,
   "metadata": {},
   "outputs": [],
   "source": [
    "!mkdir templates static \n",
    "!touch templates/index.html static/script.js static/style.css"
   ]
  },
  {
   "cell_type": "code",
   "execution_count": null,
   "metadata": {},
   "outputs": [],
   "source": [
    "!pip install flask-ngrok\n",
    "!pip install pyngrok\n",
    "!ngrok config add-authtoken YOUR_NGROK_KEY\n",
    "!pip install -U flask-cors"
   ]
  },
  {
   "cell_type": "code",
   "execution_count": null,
   "metadata": {},
   "outputs": [],
   "source": [
    "!pip install diffusers==0.11.1\n",
    "!pip install transformers scipy ftfy accelerate"
   ]
  },
  {
   "cell_type": "code",
   "execution_count": null,
   "metadata": {},
   "outputs": [],
   "source": [
    "import torch\n",
    "from diffusers import StableDiffusionPipeline\n",
    "\n",
    "pipe = StableDiffusionPipeline.from_pretrained(\"CompVis/stable-diffusion-v1-4\", torch_dtype=torch.float16)\n",
    "pipe = pipe.to(\"cuda\")"
   ]
  },
  {
   "cell_type": "code",
   "execution_count": null,
   "metadata": {},
   "outputs": [],
   "source": [
    "import os\n",
    "import io\n",
    "import base64\n",
    "import queue\n",
    "import threading\n",
    "\n",
    "from flask import Flask, render_template, request, jsonify, send_file\n",
    "from pyngrok import ngrok\n",
    "from flask_cors import CORS\n",
    "\n",
    "request_queue = queue.Queue()\n",
    "\n",
    "app = Flask(__name__)\n",
    "cors = CORS(app, resources={r\"/*\": {\"origins\": \"*\"}})\n",
    "port = 5000\n",
    "\n",
    "\n",
    "\n",
    "public_url = ngrok.connect(port).public_url\n",
    "print(\" * ngrok tunnel \\\"{}\\\" -> \\\"http://127.0.0.1:{}\\\"\".format(public_url, port))\n",
    "\n",
    "# Update any base URLs to use the public ngrok URL\n",
    "app.config[\"BASE_URL\"] = public_url\n",
    "\n",
    "def generate_image(prompt):\n",
    "  try:\n",
    "    image = pipe(prompt).images[0]\n",
    "    buffered = io.BytesIO()\n",
    "    image.save(buffered, format=\"PNG\")\n",
    "    img_str = base64.b64encode(buffered.getvalue())\n",
    "    b = \"data:image/png;base64,\" + str(img_str)[2:-1]\n",
    "    return b\n",
    "  except Exception as e:\n",
    "    return str(e)\n",
    "\n",
    "\n",
    "def process_requests():\n",
    "    while True:\n",
    "      try:\n",
    "        req, response_queue = request_queue.get()\n",
    "        # Process the request here and generate the response\n",
    "        prompt = req[\"prompt\"]\n",
    "        response = generate_image(prompt)\n",
    "        response_queue.put(response)\n",
    "      except Exception as e:\n",
    "        return str(e)\n",
    "\n",
    "\n",
    "@app.route(\"/\", methods = ['GET', 'POST'])\n",
    "def index():\n",
    "  try:\n",
    "      if request.method == \"GET\":\n",
    "\n",
    "        return render_template(\"index.html\")\n",
    "\n",
    "      else:\n",
    "        \n",
    "          req = request.get_json()\n",
    "          prompt = req[\"prompt\"]\n",
    "\n",
    "          if (\"prompt\" not in req) or (prompt == ''):\n",
    "              return jsonify({\"error\": \"Please specify a prompt parameter\"}), 400\n",
    "          \n",
    "          response_queue = queue.Queue()\n",
    "          request_queue.put((req, response_queue))\n",
    "          response = response_queue.get()\n",
    "\n",
    "          return jsonify({\"image_raw\": response})\n",
    "\n",
    "  except Exception as e:\n",
    "    return jsonify(error=404, text=str(e)), 404\n",
    "\n",
    "\n",
    "\n",
    "threading.Thread(target=process_requests).start()\n",
    "# Start the Flask server in a new thread\n",
    "threading.Thread(target=app.run, kwargs={\"use_reloader\": False}).start()\n",
    "\n",
    "\n",
    "# if __name__ == \"__main__\":\n",
    "#     app.run(debug=True)"
   ]
  }
 ],
 "metadata": {
  "language_info": {
   "name": "python"
  },
  "orig_nbformat": 4
 },
 "nbformat": 4,
 "nbformat_minor": 2
}
